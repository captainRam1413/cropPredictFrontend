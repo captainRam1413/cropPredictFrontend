{
  "nbformat": 4,
  "nbformat_minor": 0,
  "metadata": {
    "colab": {
      "provenance": [],
      "gpuType": "V28"
    },
    "kernelspec": {
      "name": "python3",
      "display_name": "Python 3"
    },
    "language_info": {
      "name": "python"
    },
    "accelerator": "TPU"
  },
  "cells": [
    {
      "cell_type": "code",
      "execution_count": null,
      "metadata": {
        "id": "k791_KdzLzCP"
      },
      "outputs": [],
      "source": [
        "import pandas as pd\n",
        "import numpy as np\n",
        "import seaborn as sns\n",
        "from sklearn.preprocessing import LabelEncoder\n",
        "from sklearn.model_selection import train_test_split\n",
        "from sklearn.metrics import classification_report\n",
        "from sklearn.tree import DecisionTreeClassifier\n",
        "import warnings\n",
        "warnings.filterwarnings('ignore')\n",
        "import os"
      ]
    },
    {
      "cell_type": "code",
      "source": [
        "import kagglehub\n",
        "\n",
        "# Download latest version\n",
        "path = kagglehub.dataset_download(\"sanchitagholap/crop-and-fertilizer-dataset-for-westernmaharashtra\")"
      ],
      "metadata": {
        "id": "9RFopvw20b_3",
        "colab": {
          "base_uri": "https://localhost:8080/"
        },
        "outputId": "123ee2ed-2b3b-4565-f670-639322da9197"
      },
      "execution_count": null,
      "outputs": [
        {
          "output_type": "stream",
          "name": "stdout",
          "text": [
            "Downloading from https://www.kaggle.com/api/v1/datasets/download/sanchitagholap/crop-and-fertilizer-dataset-for-westernmaharashtra?dataset_version_number=1...\n"
          ]
        },
        {
          "output_type": "stream",
          "name": "stderr",
          "text": [
            "100%|██████████| 19.6k/19.6k [00:00<00:00, 5.94MB/s]"
          ]
        },
        {
          "output_type": "stream",
          "name": "stdout",
          "text": [
            "Extracting files...\n"
          ]
        },
        {
          "output_type": "stream",
          "name": "stderr",
          "text": [
            "\n"
          ]
        }
      ]
    },
    {
      "source": [
        "csv_file_path = os.path.join(path, 'Crop and fertilizer dataset.csv')\n",
        "\n",
        "# Read the dataset using the constructed path\n",
        "dataset = pd.read_csv(csv_file_path)\n",
        "\n",
        "print(dataset.head())\n",
        "dataset.drop(columns=['Link'], inplace=True)\n",
        "dataset.head(5)"
      ],
      "cell_type": "code",
      "metadata": {
        "colab": {
          "base_uri": "https://localhost:8080/",
          "height": 431
        },
        "id": "u1Lq_fW_4hOS",
        "outputId": "af510c48-7e81-4d53-a212-b767b817fdf4"
      },
      "execution_count": null,
      "outputs": [
        {
          "output_type": "stream",
          "name": "stdout",
          "text": [
            "  District_Name Soil_color  Nitrogen  Phosphorus  Potassium   pH  Rainfall  \\\n",
            "0      Kolhapur      Black        75          50        100  6.5      1000   \n",
            "1      Kolhapur      Black        80          50        100  6.5      1000   \n",
            "2      Kolhapur      Black        85          50        100  6.5      1000   \n",
            "3      Kolhapur      Black        90          50        100  6.5      1000   \n",
            "4      Kolhapur      Black        95          50        100  6.5      1000   \n",
            "\n",
            "   Temperature       Crop Fertilizer                          Link  \n",
            "0           20  Sugarcane       Urea  https://youtu.be/2t5Am0xLTOo  \n",
            "1           20  Sugarcane       Urea  https://youtu.be/2t5Am0xLTOo  \n",
            "2           20  Sugarcane       Urea  https://youtu.be/2t5Am0xLTOo  \n",
            "3           20  Sugarcane       Urea  https://youtu.be/2t5Am0xLTOo  \n",
            "4           20  Sugarcane       Urea  https://youtu.be/2t5Am0xLTOo  \n"
          ]
        },
        {
          "output_type": "execute_result",
          "data": {
            "text/plain": [
              "  District_Name Soil_color  Nitrogen  Phosphorus  Potassium   pH  Rainfall  \\\n",
              "0      Kolhapur      Black        75          50        100  6.5      1000   \n",
              "1      Kolhapur      Black        80          50        100  6.5      1000   \n",
              "2      Kolhapur      Black        85          50        100  6.5      1000   \n",
              "3      Kolhapur      Black        90          50        100  6.5      1000   \n",
              "4      Kolhapur      Black        95          50        100  6.5      1000   \n",
              "\n",
              "   Temperature       Crop Fertilizer  \n",
              "0           20  Sugarcane       Urea  \n",
              "1           20  Sugarcane       Urea  \n",
              "2           20  Sugarcane       Urea  \n",
              "3           20  Sugarcane       Urea  \n",
              "4           20  Sugarcane       Urea  "
            ],
            "text/html": [
              "\n",
              "  <div id=\"df-d5d89675-ef4d-4ccb-a5a4-15754202d307\" class=\"colab-df-container\">\n",
              "    <div>\n",
              "<style scoped>\n",
              "    .dataframe tbody tr th:only-of-type {\n",
              "        vertical-align: middle;\n",
              "    }\n",
              "\n",
              "    .dataframe tbody tr th {\n",
              "        vertical-align: top;\n",
              "    }\n",
              "\n",
              "    .dataframe thead th {\n",
              "        text-align: right;\n",
              "    }\n",
              "</style>\n",
              "<table border=\"1\" class=\"dataframe\">\n",
              "  <thead>\n",
              "    <tr style=\"text-align: right;\">\n",
              "      <th></th>\n",
              "      <th>District_Name</th>\n",
              "      <th>Soil_color</th>\n",
              "      <th>Nitrogen</th>\n",
              "      <th>Phosphorus</th>\n",
              "      <th>Potassium</th>\n",
              "      <th>pH</th>\n",
              "      <th>Rainfall</th>\n",
              "      <th>Temperature</th>\n",
              "      <th>Crop</th>\n",
              "      <th>Fertilizer</th>\n",
              "    </tr>\n",
              "  </thead>\n",
              "  <tbody>\n",
              "    <tr>\n",
              "      <th>0</th>\n",
              "      <td>Kolhapur</td>\n",
              "      <td>Black</td>\n",
              "      <td>75</td>\n",
              "      <td>50</td>\n",
              "      <td>100</td>\n",
              "      <td>6.5</td>\n",
              "      <td>1000</td>\n",
              "      <td>20</td>\n",
              "      <td>Sugarcane</td>\n",
              "      <td>Urea</td>\n",
              "    </tr>\n",
              "    <tr>\n",
              "      <th>1</th>\n",
              "      <td>Kolhapur</td>\n",
              "      <td>Black</td>\n",
              "      <td>80</td>\n",
              "      <td>50</td>\n",
              "      <td>100</td>\n",
              "      <td>6.5</td>\n",
              "      <td>1000</td>\n",
              "      <td>20</td>\n",
              "      <td>Sugarcane</td>\n",
              "      <td>Urea</td>\n",
              "    </tr>\n",
              "    <tr>\n",
              "      <th>2</th>\n",
              "      <td>Kolhapur</td>\n",
              "      <td>Black</td>\n",
              "      <td>85</td>\n",
              "      <td>50</td>\n",
              "      <td>100</td>\n",
              "      <td>6.5</td>\n",
              "      <td>1000</td>\n",
              "      <td>20</td>\n",
              "      <td>Sugarcane</td>\n",
              "      <td>Urea</td>\n",
              "    </tr>\n",
              "    <tr>\n",
              "      <th>3</th>\n",
              "      <td>Kolhapur</td>\n",
              "      <td>Black</td>\n",
              "      <td>90</td>\n",
              "      <td>50</td>\n",
              "      <td>100</td>\n",
              "      <td>6.5</td>\n",
              "      <td>1000</td>\n",
              "      <td>20</td>\n",
              "      <td>Sugarcane</td>\n",
              "      <td>Urea</td>\n",
              "    </tr>\n",
              "    <tr>\n",
              "      <th>4</th>\n",
              "      <td>Kolhapur</td>\n",
              "      <td>Black</td>\n",
              "      <td>95</td>\n",
              "      <td>50</td>\n",
              "      <td>100</td>\n",
              "      <td>6.5</td>\n",
              "      <td>1000</td>\n",
              "      <td>20</td>\n",
              "      <td>Sugarcane</td>\n",
              "      <td>Urea</td>\n",
              "    </tr>\n",
              "  </tbody>\n",
              "</table>\n",
              "</div>\n",
              "    <div class=\"colab-df-buttons\">\n",
              "\n",
              "  <div class=\"colab-df-container\">\n",
              "    <button class=\"colab-df-convert\" onclick=\"convertToInteractive('df-d5d89675-ef4d-4ccb-a5a4-15754202d307')\"\n",
              "            title=\"Convert this dataframe to an interactive table.\"\n",
              "            style=\"display:none;\">\n",
              "\n",
              "  <svg xmlns=\"http://www.w3.org/2000/svg\" height=\"24px\" viewBox=\"0 -960 960 960\">\n",
              "    <path d=\"M120-120v-720h720v720H120Zm60-500h600v-160H180v160Zm220 220h160v-160H400v160Zm0 220h160v-160H400v160ZM180-400h160v-160H180v160Zm440 0h160v-160H620v160ZM180-180h160v-160H180v160Zm440 0h160v-160H620v160Z\"/>\n",
              "  </svg>\n",
              "    </button>\n",
              "\n",
              "  <style>\n",
              "    .colab-df-container {\n",
              "      display:flex;\n",
              "      gap: 12px;\n",
              "    }\n",
              "\n",
              "    .colab-df-convert {\n",
              "      background-color: #E8F0FE;\n",
              "      border: none;\n",
              "      border-radius: 50%;\n",
              "      cursor: pointer;\n",
              "      display: none;\n",
              "      fill: #1967D2;\n",
              "      height: 32px;\n",
              "      padding: 0 0 0 0;\n",
              "      width: 32px;\n",
              "    }\n",
              "\n",
              "    .colab-df-convert:hover {\n",
              "      background-color: #E2EBFA;\n",
              "      box-shadow: 0px 1px 2px rgba(60, 64, 67, 0.3), 0px 1px 3px 1px rgba(60, 64, 67, 0.15);\n",
              "      fill: #174EA6;\n",
              "    }\n",
              "\n",
              "    .colab-df-buttons div {\n",
              "      margin-bottom: 4px;\n",
              "    }\n",
              "\n",
              "    [theme=dark] .colab-df-convert {\n",
              "      background-color: #3B4455;\n",
              "      fill: #D2E3FC;\n",
              "    }\n",
              "\n",
              "    [theme=dark] .colab-df-convert:hover {\n",
              "      background-color: #434B5C;\n",
              "      box-shadow: 0px 1px 3px 1px rgba(0, 0, 0, 0.15);\n",
              "      filter: drop-shadow(0px 1px 2px rgba(0, 0, 0, 0.3));\n",
              "      fill: #FFFFFF;\n",
              "    }\n",
              "  </style>\n",
              "\n",
              "    <script>\n",
              "      const buttonEl =\n",
              "        document.querySelector('#df-d5d89675-ef4d-4ccb-a5a4-15754202d307 button.colab-df-convert');\n",
              "      buttonEl.style.display =\n",
              "        google.colab.kernel.accessAllowed ? 'block' : 'none';\n",
              "\n",
              "      async function convertToInteractive(key) {\n",
              "        const element = document.querySelector('#df-d5d89675-ef4d-4ccb-a5a4-15754202d307');\n",
              "        const dataTable =\n",
              "          await google.colab.kernel.invokeFunction('convertToInteractive',\n",
              "                                                    [key], {});\n",
              "        if (!dataTable) return;\n",
              "\n",
              "        const docLinkHtml = 'Like what you see? Visit the ' +\n",
              "          '<a target=\"_blank\" href=https://colab.research.google.com/notebooks/data_table.ipynb>data table notebook</a>'\n",
              "          + ' to learn more about interactive tables.';\n",
              "        element.innerHTML = '';\n",
              "        dataTable['output_type'] = 'display_data';\n",
              "        await google.colab.output.renderOutput(dataTable, element);\n",
              "        const docLink = document.createElement('div');\n",
              "        docLink.innerHTML = docLinkHtml;\n",
              "        element.appendChild(docLink);\n",
              "      }\n",
              "    </script>\n",
              "  </div>\n",
              "\n",
              "\n",
              "    <div id=\"df-88ced241-0f84-4c8f-b46f-68c7a9826d36\">\n",
              "      <button class=\"colab-df-quickchart\" onclick=\"quickchart('df-88ced241-0f84-4c8f-b46f-68c7a9826d36')\"\n",
              "                title=\"Suggest charts\"\n",
              "                style=\"display:none;\">\n",
              "\n",
              "<svg xmlns=\"http://www.w3.org/2000/svg\" height=\"24px\"viewBox=\"0 0 24 24\"\n",
              "     width=\"24px\">\n",
              "    <g>\n",
              "        <path d=\"M19 3H5c-1.1 0-2 .9-2 2v14c0 1.1.9 2 2 2h14c1.1 0 2-.9 2-2V5c0-1.1-.9-2-2-2zM9 17H7v-7h2v7zm4 0h-2V7h2v10zm4 0h-2v-4h2v4z\"/>\n",
              "    </g>\n",
              "</svg>\n",
              "      </button>\n",
              "\n",
              "<style>\n",
              "  .colab-df-quickchart {\n",
              "      --bg-color: #E8F0FE;\n",
              "      --fill-color: #1967D2;\n",
              "      --hover-bg-color: #E2EBFA;\n",
              "      --hover-fill-color: #174EA6;\n",
              "      --disabled-fill-color: #AAA;\n",
              "      --disabled-bg-color: #DDD;\n",
              "  }\n",
              "\n",
              "  [theme=dark] .colab-df-quickchart {\n",
              "      --bg-color: #3B4455;\n",
              "      --fill-color: #D2E3FC;\n",
              "      --hover-bg-color: #434B5C;\n",
              "      --hover-fill-color: #FFFFFF;\n",
              "      --disabled-bg-color: #3B4455;\n",
              "      --disabled-fill-color: #666;\n",
              "  }\n",
              "\n",
              "  .colab-df-quickchart {\n",
              "    background-color: var(--bg-color);\n",
              "    border: none;\n",
              "    border-radius: 50%;\n",
              "    cursor: pointer;\n",
              "    display: none;\n",
              "    fill: var(--fill-color);\n",
              "    height: 32px;\n",
              "    padding: 0;\n",
              "    width: 32px;\n",
              "  }\n",
              "\n",
              "  .colab-df-quickchart:hover {\n",
              "    background-color: var(--hover-bg-color);\n",
              "    box-shadow: 0 1px 2px rgba(60, 64, 67, 0.3), 0 1px 3px 1px rgba(60, 64, 67, 0.15);\n",
              "    fill: var(--button-hover-fill-color);\n",
              "  }\n",
              "\n",
              "  .colab-df-quickchart-complete:disabled,\n",
              "  .colab-df-quickchart-complete:disabled:hover {\n",
              "    background-color: var(--disabled-bg-color);\n",
              "    fill: var(--disabled-fill-color);\n",
              "    box-shadow: none;\n",
              "  }\n",
              "\n",
              "  .colab-df-spinner {\n",
              "    border: 2px solid var(--fill-color);\n",
              "    border-color: transparent;\n",
              "    border-bottom-color: var(--fill-color);\n",
              "    animation:\n",
              "      spin 1s steps(1) infinite;\n",
              "  }\n",
              "\n",
              "  @keyframes spin {\n",
              "    0% {\n",
              "      border-color: transparent;\n",
              "      border-bottom-color: var(--fill-color);\n",
              "      border-left-color: var(--fill-color);\n",
              "    }\n",
              "    20% {\n",
              "      border-color: transparent;\n",
              "      border-left-color: var(--fill-color);\n",
              "      border-top-color: var(--fill-color);\n",
              "    }\n",
              "    30% {\n",
              "      border-color: transparent;\n",
              "      border-left-color: var(--fill-color);\n",
              "      border-top-color: var(--fill-color);\n",
              "      border-right-color: var(--fill-color);\n",
              "    }\n",
              "    40% {\n",
              "      border-color: transparent;\n",
              "      border-right-color: var(--fill-color);\n",
              "      border-top-color: var(--fill-color);\n",
              "    }\n",
              "    60% {\n",
              "      border-color: transparent;\n",
              "      border-right-color: var(--fill-color);\n",
              "    }\n",
              "    80% {\n",
              "      border-color: transparent;\n",
              "      border-right-color: var(--fill-color);\n",
              "      border-bottom-color: var(--fill-color);\n",
              "    }\n",
              "    90% {\n",
              "      border-color: transparent;\n",
              "      border-bottom-color: var(--fill-color);\n",
              "    }\n",
              "  }\n",
              "</style>\n",
              "\n",
              "      <script>\n",
              "        async function quickchart(key) {\n",
              "          const quickchartButtonEl =\n",
              "            document.querySelector('#' + key + ' button');\n",
              "          quickchartButtonEl.disabled = true;  // To prevent multiple clicks.\n",
              "          quickchartButtonEl.classList.add('colab-df-spinner');\n",
              "          try {\n",
              "            const charts = await google.colab.kernel.invokeFunction(\n",
              "                'suggestCharts', [key], {});\n",
              "          } catch (error) {\n",
              "            console.error('Error during call to suggestCharts:', error);\n",
              "          }\n",
              "          quickchartButtonEl.classList.remove('colab-df-spinner');\n",
              "          quickchartButtonEl.classList.add('colab-df-quickchart-complete');\n",
              "        }\n",
              "        (() => {\n",
              "          let quickchartButtonEl =\n",
              "            document.querySelector('#df-88ced241-0f84-4c8f-b46f-68c7a9826d36 button');\n",
              "          quickchartButtonEl.style.display =\n",
              "            google.colab.kernel.accessAllowed ? 'block' : 'none';\n",
              "        })();\n",
              "      </script>\n",
              "    </div>\n",
              "\n",
              "    </div>\n",
              "  </div>\n"
            ],
            "application/vnd.google.colaboratory.intrinsic+json": {
              "type": "dataframe",
              "variable_name": "dataset",
              "summary": "{\n  \"name\": \"dataset\",\n  \"rows\": 4513,\n  \"fields\": [\n    {\n      \"column\": \"District_Name\",\n      \"properties\": {\n        \"dtype\": \"category\",\n        \"num_unique_values\": 5,\n        \"samples\": [\n          \"Solapur\",\n          \"Pune\",\n          \"Satara\"\n        ],\n        \"semantic_type\": \"\",\n        \"description\": \"\"\n      }\n    },\n    {\n      \"column\": \"Soil_color\",\n      \"properties\": {\n        \"dtype\": \"category\",\n        \"num_unique_values\": 7,\n        \"samples\": [\n          \"Black\",\n          \"Red \",\n          \"Light Brown\"\n        ],\n        \"semantic_type\": \"\",\n        \"description\": \"\"\n      }\n    },\n    {\n      \"column\": \"Nitrogen\",\n      \"properties\": {\n        \"dtype\": \"number\",\n        \"std\": 38,\n        \"min\": 20,\n        \"max\": 150,\n        \"num_unique_values\": 27,\n        \"samples\": [\n          30,\n          105,\n          35\n        ],\n        \"semantic_type\": \"\",\n        \"description\": \"\"\n      }\n    },\n    {\n      \"column\": \"Phosphorus\",\n      \"properties\": {\n        \"dtype\": \"number\",\n        \"std\": 16,\n        \"min\": 10,\n        \"max\": 90,\n        \"num_unique_values\": 17,\n        \"samples\": [\n          50,\n          55,\n          35\n        ],\n        \"semantic_type\": \"\",\n        \"description\": \"\"\n      }\n    },\n    {\n      \"column\": \"Potassium\",\n      \"properties\": {\n        \"dtype\": \"number\",\n        \"std\": 35,\n        \"min\": 5,\n        \"max\": 150,\n        \"num_unique_values\": 30,\n        \"samples\": [\n          85,\n          45,\n          135\n        ],\n        \"semantic_type\": \"\",\n        \"description\": \"\"\n      }\n    },\n    {\n      \"column\": \"pH\",\n      \"properties\": {\n        \"dtype\": \"number\",\n        \"std\": 0.6251982138274089,\n        \"min\": 5.5,\n        \"max\": 8.5,\n        \"num_unique_values\": 7,\n        \"samples\": [\n          6.5,\n          7.0,\n          8.0\n        ],\n        \"semantic_type\": \"\",\n        \"description\": \"\"\n      }\n    },\n    {\n      \"column\": \"Rainfall\",\n      \"properties\": {\n        \"dtype\": \"number\",\n        \"std\": 251,\n        \"min\": 300,\n        \"max\": 1700,\n        \"num_unique_values\": 15,\n        \"samples\": [\n          900,\n          300,\n          1000\n        ],\n        \"semantic_type\": \"\",\n        \"description\": \"\"\n      }\n    },\n    {\n      \"column\": \"Temperature\",\n      \"properties\": {\n        \"dtype\": \"number\",\n        \"std\": 5,\n        \"min\": 10,\n        \"max\": 40,\n        \"num_unique_values\": 7,\n        \"samples\": [\n          20,\n          25,\n          10\n        ],\n        \"semantic_type\": \"\",\n        \"description\": \"\"\n      }\n    },\n    {\n      \"column\": \"Crop\",\n      \"properties\": {\n        \"dtype\": \"category\",\n        \"num_unique_values\": 16,\n        \"samples\": [\n          \"Sugarcane\",\n          \"Jowar\",\n          \"Groundnut\"\n        ],\n        \"semantic_type\": \"\",\n        \"description\": \"\"\n      }\n    },\n    {\n      \"column\": \"Fertilizer\",\n      \"properties\": {\n        \"dtype\": \"category\",\n        \"num_unique_values\": 19,\n        \"samples\": [\n          \"Urea\",\n          \"Magnesium Sulphate\",\n          \"18:46:00 NPK\"\n        ],\n        \"semantic_type\": \"\",\n        \"description\": \"\"\n      }\n    }\n  ]\n}"
            }
          },
          "metadata": {},
          "execution_count": 21
        }
      ]
    },
    {
      "cell_type": "code",
      "source": [
        "# Exclude non-numeric columns\n",
        "numeric_dataset = dataset.select_dtypes(include=['float64', 'int64'])\n",
        "\n",
        "# Calculate correlation matrix\n",
        "corr = numeric_dataset.corr()\n",
        "print(corr)"
      ],
      "metadata": {
        "colab": {
          "base_uri": "https://localhost:8080/"
        },
        "id": "5J9mK_I60-3c",
        "outputId": "367d2bf5-a2bb-4377-d927-0abedaa648ec"
      },
      "execution_count": null,
      "outputs": [
        {
          "output_type": "stream",
          "name": "stdout",
          "text": [
            "             Nitrogen  Phosphorus  Potassium        pH  Rainfall  Temperature\n",
            "Nitrogen     1.000000    0.709539   0.584315  0.182850  0.269364    -0.010213\n",
            "Phosphorus   0.709539    1.000000   0.573970  0.244945  0.225453    -0.055303\n",
            "Potassium    0.584315    0.573970   1.000000  0.075110  0.445671     0.053413\n",
            "pH           0.182850    0.244945   0.075110  1.000000  0.097884    -0.002949\n",
            "Rainfall     0.269364    0.225453   0.445671  0.097884  1.000000     0.315045\n",
            "Temperature -0.010213   -0.055303   0.053413 -0.002949  0.315045     1.000000\n"
          ]
        }
      ]
    },
    {
      "cell_type": "code",
      "source": [
        "sns.heatmap((dataset.drop(columns=['Crop', 'Fertilizer', 'District_Name',\t'Soil_color'])).corr(), annot=True,cbar=True , cmap='coolwarm')"
      ],
      "metadata": {
        "colab": {
          "base_uri": "https://localhost:8080/",
          "height": 526
        },
        "id": "YwGBaJlM1wDM",
        "outputId": "8971677e-0f43-4ee3-8238-ed802abe60a1"
      },
      "execution_count": null,
      "outputs": [
        {
          "output_type": "execute_result",
          "data": {
            "text/plain": [
              "<Axes: >"
            ]
          },
          "metadata": {},
          "execution_count": 23
        },
        {
          "output_type": "display_data",
          "data": {
            "text/plain": [
              "<Figure size 640x480 with 2 Axes>"
            ],
            "image/png": "[encoded data removed]"
          },
          "metadata": {}
        }
      ]
    },
    {
      "cell_type": "code",
      "source": [
        "import sklearn as sk\n",
        "from sklearn.model_selection import train_test_split\n",
        "from sklearn.preprocessing import OneHotEncoder\n",
        "from sklearn.ensemble import RandomForestClassifier, GradientBoostingClassifier\n",
        "from sklearn.metrics import accuracy_score, classification_report"
      ],
      "metadata": {
        "id": "IUKQvWR75sRI"
      },
      "execution_count": null,
      "outputs": []
    },
    {
      "cell_type": "code",
      "source": [
        "print(sk.__version__)"
      ],
      "metadata": {
        "colab": {
          "base_uri": "https://localhost:8080/"
        },
        "id": "KlL3IYYF5vlR",
        "outputId": "ea281c2e-7bd1-4b74-d656-74a0d22faf3b"
      },
      "execution_count": null,
      "outputs": [
        {
          "output_type": "stream",
          "name": "stdout",
          "text": [
            "1.6.1\n"
          ]
        }
      ]
    },
    {
      "cell_type": "code",
      "source": [
        "encoder1, encoder2 = LabelEncoder(), LabelEncoder()\n",
        "District = encoder1.fit_transform(dataset['District_Name'])\n",
        "Soil = encoder2.fit_transform(dataset['Soil_color'])"
      ],
      "metadata": {
        "id": "c62CZOoKn-yd"
      },
      "execution_count": null,
      "outputs": []
    },
    {
      "cell_type": "code",
      "source": [
        "crops = np.unique(dataset['Crop'].values)\n",
        "map_crops = np.transpose([crops, [i for i in range(len(crops))]])\n",
        "map_crops"
      ],
      "metadata": {
        "colab": {
          "base_uri": "https://localhost:8080/"
        },
        "id": "Z5g9_xAYqxm2",
        "outputId": "213428a4-46d3-47f2-eec5-8a6bf5ff81fc"
      },
      "execution_count": null,
      "outputs": [
        {
          "output_type": "execute_result",
          "data": {
            "text/plain": [
              "array([['Cotton', 0],\n",
              "       ['Ginger', 1],\n",
              "       ['Gram', 2],\n",
              "       ['Grapes', 3],\n",
              "       ['Groundnut', 4],\n",
              "       ['Jowar', 5],\n",
              "       ['Maize', 6],\n",
              "       ['Masoor', 7],\n",
              "       ['Moong', 8],\n",
              "       ['Rice', 9],\n",
              "       ['Soybean', 10],\n",
              "       ['Sugarcane', 11],\n",
              "       ['Tur', 12],\n",
              "       ['Turmeric', 13],\n",
              "       ['Urad', 14],\n",
              "       ['Wheat', 15]], dtype=object)"
            ]
          },
          "metadata": {},
          "execution_count": 27
        }
      ]
    },
    {
      "cell_type": "code",
      "source": [
        "fertilizers = np.unique(dataset['Fertilizer'].values)\n",
        "map_fertilizers = np.transpose([fertilizers, [i for i in range(len(fertilizers))]])\n",
        "map_fertilizers"
      ],
      "metadata": {
        "colab": {
          "base_uri": "https://localhost:8080/"
        },
        "id": "X5g8AndMq2y_",
        "outputId": "8e06cc87-5a54-494a-8452-c547af2f4983"
      },
      "execution_count": null,
      "outputs": [
        {
          "output_type": "execute_result",
          "data": {
            "text/plain": [
              "array([['10:10:10 NPK', 0],\n",
              "       ['10:26:26 NPK', 1],\n",
              "       ['12:32:16 NPK', 2],\n",
              "       ['13:32:26 NPK', 3],\n",
              "       ['18:46:00 NPK', 4],\n",
              "       ['19:19:19 NPK', 5],\n",
              "       ['20:20:20 NPK', 6],\n",
              "       ['50:26:26 NPK', 7],\n",
              "       ['Ammonium Sulphate', 8],\n",
              "       ['Chilated Micronutrient', 9],\n",
              "       ['DAP', 10],\n",
              "       ['Ferrous Sulphate', 11],\n",
              "       ['Hydrated Lime', 12],\n",
              "       ['MOP', 13],\n",
              "       ['Magnesium Sulphate', 14],\n",
              "       ['SSP', 15],\n",
              "       ['Sulphur', 16],\n",
              "       ['Urea', 17],\n",
              "       ['White Potash', 18]], dtype=object)"
            ]
          },
          "metadata": {},
          "execution_count": 28
        }
      ]
    },
    {
      "cell_type": "code",
      "source": [
        "X = np.column_stack((District, Soil, dataset.iloc[:, 2:8].values))\n",
        "y = dataset.iloc[:, 8:].values\n",
        "\n",
        "y_crop = []\n",
        "for crop in y[:, 0]:\n",
        "    for i in map_crops:\n",
        "        if crop == i[0]:\n",
        "            y_crop.append(i[1])\n",
        "\n",
        "y_fert = []\n",
        "for fert in y[:, 1]:\n",
        "    for i in map_fertilizers:\n",
        "        if fert == i[0]:\n",
        "            y_fert.append(i[1])\n",
        "\n",
        "y_numeric = np.transpose(np.array([y_crop, y_fert]))\n",
        "\n",
        "X_train, X_test, y_train, y_test = train_test_split(X, y_numeric, test_size=0.25, random_state=42)"
      ],
      "metadata": {
        "id": "6Z0nlSpLq_33"
      },
      "execution_count": null,
      "outputs": []
    },
    {
      "cell_type": "code",
      "source": [
        "dt = DecisionTreeClassifier(random_state=42)\n",
        "dt.fit(X_train, y_train)\n",
        "y_pred = dt.predict(X_test)\n",
        "# accuracy_score(y_test, y_pred)\n",
        "# print(f\"Decision Tree Accuracy: {accuracy_score(y_test, y_pred)}\")\n",
        "print(classification_report(y_test[:, 0], y_pred[:, 0]))\n",
        "\n",
        "print(accuracy_score(y_test[:, 1], y_pred[:, 1]))"
      ],
      "metadata": {
        "colab": {
          "base_uri": "https://localhost:8080/"
        },
        "id": "8wYDeFLYs10L",
        "outputId": "22dffcae-db86-46f2-ad22-5409f7585a01"
      },
      "execution_count": null,
      "outputs": [
        {
          "output_type": "stream",
          "name": "stdout",
          "text": [
            "              precision    recall  f1-score   support\n",
            "\n",
            "           0       1.00      0.99      1.00       177\n",
            "           1       1.00      1.00      1.00        28\n",
            "           2       1.00      1.00      1.00        18\n",
            "           3       1.00      1.00      1.00        23\n",
            "           4       1.00      1.00      1.00        50\n",
            "           5       1.00      1.00      1.00        81\n",
            "           6       1.00      0.99      0.99        86\n",
            "           7       1.00      1.00      1.00         5\n",
            "           8       1.00      1.00      1.00        17\n",
            "           9       1.00      1.00      1.00        83\n",
            "          10       1.00      1.00      1.00         9\n",
            "          11       1.00      1.00      1.00       255\n",
            "          12       1.00      1.00      1.00        24\n",
            "          13       1.00      1.00      1.00        15\n",
            "          14       1.00      1.00      1.00        29\n",
            "          15       0.99      1.00      1.00       229\n",
            "\n",
            "    accuracy                           1.00      1129\n",
            "   macro avg       1.00      1.00      1.00      1129\n",
            "weighted avg       1.00      1.00      1.00      1129\n",
            "\n",
            "0.9326837909654562\n"
          ]
        }
      ]
    },
    {
      "cell_type": "code",
      "source": [
        "from sklearn.multioutput import MultiOutputClassifier\n",
        "\n",
        "model = MultiOutputClassifier(RandomForestClassifier(n_estimators=100, random_state=42))\n",
        "model.fit(X_train, y_train)\n",
        "\n",
        "model_tuned = MultiOutputClassifier(GradientBoostingClassifier(n_estimators=200, learning_rate=0.1, max_depth=3))\n",
        "model_tuned.fit(X_train, y_train)\n",
        "# Evaluate the model (optional, but good practice)\n",
        "from sklearn.metrics import accuracy_score, classification_report\n",
        "\n",
        "\n",
        "\n",
        "y_pred_rf = model.predict(X_test)\n",
        "y_pred_gb = model_tuned.predict(X_test)\n",
        "accuracy_rf = accuracy_score(y_test[:,0], y_pred_rf[:,0])\n",
        "accuracy_gb = accuracy_score(y_test[:,0], y_pred_gb[:,0])\n",
        "\n",
        "print(f\"Random forest Accuracy: {accuracy_rf}\")\n",
        "print(f\"Gradient Boosting Accuracy: {accuracy_gb}\")\n",
        "# print(classification_report(y_test, y_pred))\n",
        "\n"
      ],
      "metadata": {
        "colab": {
          "base_uri": "https://localhost:8080/"
        },
        "id": "G4UuJco26kzo",
        "outputId": "8a9e3b2d-90a0-4cb7-a00e-71f14fe272d7"
      },
      "execution_count": null,
      "outputs": [
        {
          "output_type": "stream",
          "name": "stdout",
          "text": [
            "Random forest Accuracy: 0.9973427812223207\n",
            "Gradient Boosting Accuracy: 0.9991142604074402\n"
          ]
        }
      ]
    },
    {
      "cell_type": "code",
      "source": [
        "from sklearn.linear_model import LogisticRegression\n",
        "from sklearn.svm import SVC\n",
        "from sklearn.neighbors import KNeighborsClassifier\n",
        "from sklearn.tree import DecisionTreeClassifier\n",
        "\n",
        "# ... (previous code for data loading and splitting)\n",
        "\n",
        "# Instantiate different models\n",
        "logreg_model = MultiOutputClassifier(LogisticRegression(max_iter=1000, random_state=42)) # Increase max_iter if needed\n",
        "svm_model = MultiOutputClassifier(SVC(random_state=42))\n",
        "knn_model = MultiOutputClassifier(KNeighborsClassifier())\n",
        "dtree_model = MultiOutputClassifier(DecisionTreeClassifier(random_state=42))\n",
        "\n",
        "# Train the models\n",
        "logreg_model.fit(X_train, y_train)\n",
        "svm_model.fit(X_train, y_train)\n",
        "knn_model.fit(X_train, y_train)\n",
        "dtree_model.fit(X_train, y_train)\n",
        "\n",
        "# Make predictions and evaluate\n",
        "y_pred_logreg = logreg_model.predict(X_test)\n",
        "y_pred_svm = svm_model.predict(X_test)\n",
        "y_pred_knn = knn_model.predict(X_test)\n",
        "y_pred_dtree = dtree_model.predict(X_test)\n",
        "\n",
        "print(f\"Logistic Regression Accuracy: {accuracy_score(y_test[:,0], y_pred_logreg[:,0])}\")\n",
        "print(f\"SVM Accuracy: {accuracy_score(y_test[:,0], y_pred_svm[:,0])}\")\n",
        "print(f\"KNN Accuracy: {accuracy_score(y_test[:,0], y_pred_knn[:,0])}\")\n",
        "print(f\"Decision Tree Accuracy: {accuracy_score(y_test[:,0], y_pred_dtree[:,0])}\")"
      ],
      "metadata": {
        "id": "lQU5sl7IAeYP",
        "colab": {
          "base_uri": "https://localhost:8080/"
        },
        "outputId": "c173f278-5376-4946-c36d-b3b277d65f53"
      },
      "execution_count": null,
      "outputs": [
        {
          "output_type": "stream",
          "name": "stdout",
          "text": [
            "Logistic Regression Accuracy: 0.7661647475642162\n",
            "SVM Accuracy: 0.6217891939769707\n",
            "KNN Accuracy: 0.9521700620017715\n",
            "Decision Tree Accuracy: 0.9937998228520815\n"
          ]
        }
      ]
    },
    {
      "cell_type": "code",
      "source": [
        "\n",
        "\n",
        "input = ['Kolhapur', 'Light Brown' , 30 ,10, 5 , 6, 600, 25]\n",
        "input[0] = int(encoder1.transform([input[0]]))\n",
        "input[1] = int(encoder2.transform([input[1]]))\n",
        "input = (np.array(input)).reshape(1,-1)\n",
        "prediction = model_tuned.predict(input)[0]\n",
        "for i in map_crops:\n",
        "    if i[1] == prediction[0]:\n",
        "        predicted_crop = i[0]\n",
        "        break\n",
        "for i in map_fertilizers:\n",
        "    if i[1] == prediction[1]:\n",
        "        predicted_fertilizer = i[0]\n",
        "        break\n",
        "\n",
        "print(f\"Predicted Crop: {predicted_crop}\")\n",
        "print(f\"Predicted Fertilizer: {predicted_fertilizer}\")\n"
      ],
      "metadata": {
        "colab": {
          "base_uri": "https://localhost:8080/"
        },
        "id": "FuCE6GYPnLAG",
        "outputId": "7294f777-ebf3-490b-d5a2-8724ed406f01"
      },
      "execution_count": null,
      "outputs": [
        {
          "output_type": "stream",
          "name": "stdout",
          "text": [
            "Predicted Crop: Moong\n",
            "Predicted Fertilizer: MOP\n"
          ]
        }
      ]
    },
    {
      "cell_type": "code",
      "source": [
        "# prompt: code to compare accuracy of all models\n",
        "\n",
        "# Calculate and store accuracies for the first output (Crop)\n",
        "accuracy_dtree_crop = accuracy_score(y_test[:, 0], y_pred_dtree[:, 0])\n",
        "accuracy_rf_crop = accuracy_score(y_test[:, 0], y_pred_rf[:, 0])\n",
        "accuracy_gb_crop = accuracy_score(y_test[:, 0], y_pred_gb[:, 0])\n",
        "accuracy_logreg_crop = accuracy_score(y_test[:, 0], y_pred_logreg[:, 0])\n",
        "accuracy_svm_crop = accuracy_score(y_test[:, 0], y_pred_svm[:, 0])\n",
        "accuracy_knn_crop = accuracy_score(y_test[:, 0], y_pred_knn[:, 0])\n",
        "\n",
        "\n",
        "# Calculate and store accuracies for the second output (Fertilizer)\n",
        "accuracy_dtree_fert = accuracy_score(y_test[:, 1], y_pred_dtree[:, 1])\n",
        "accuracy_rf_fert = accuracy_score(y_test[:, 1], y_pred_rf[:, 1])\n",
        "accuracy_gb_fert = accuracy_score(y_test[:, 1], y_pred_gb[:, 1])\n",
        "accuracy_logreg_fert = accuracy_score(y_test[:, 1], y_pred_logreg[:, 1])\n",
        "accuracy_svm_fert = accuracy_score(y_test[:, 1], y_pred_svm[:, 1])\n",
        "accuracy_knn_fert = accuracy_score(y_test[:, 1], y_pred_knn[:, 1])\n",
        "\n",
        "\n",
        "# Create a dictionary to store model accuracies for each output\n",
        "model_accuracies_crop = {\n",
        "    'Decision Tree': accuracy_dtree_crop,\n",
        "    'Random Forest': accuracy_rf_crop,\n",
        "    'Gradient Boosting': accuracy_gb_crop,\n",
        "    'Logistic Regression': accuracy_logreg_crop,\n",
        "    'SVM': accuracy_svm_crop,\n",
        "    'KNN': accuracy_knn_crop\n",
        "}\n",
        "\n",
        "model_accuracies_fert = {\n",
        "    'Decision Tree': accuracy_dtree_fert,\n",
        "    'Random Forest': accuracy_rf_fert,\n",
        "    'Gradient Boosting': accuracy_gb_fert,\n",
        "    'Logistic Regression': accuracy_logreg_fert,\n",
        "    'SVM': accuracy_svm_fert,\n",
        "    'KNN': accuracy_knn_fert\n",
        "}\n",
        "\n",
        "# Print accuracies for comparison\n",
        "print(\"\\n--- Model Accuracies for Crop Prediction ---\")\n",
        "for model_name, accuracy in model_accuracies_crop.items():\n",
        "    print(f\"{model_name}: {accuracy:.4f}\")\n",
        "\n",
        "print(\"\\n--- Model Accuracies for Fertilizer Prediction ---\")\n",
        "for model_name, accuracy in model_accuracies_fert.items():\n",
        "    print(f\"{model_name}: {accuracy:.4f}\")\n",
        "\n",
        "# Optional: Find the best model for each output\n",
        "best_model_crop = max(model_accuracies_crop, key=model_accuracies_crop.get)\n",
        "best_accuracy_crop = model_accuracies_crop[best_model_crop]\n",
        "print(f\"\\nBest Model for Crop Prediction: {best_model_crop} with Accuracy: {best_accuracy_crop:.4f}\")\n",
        "\n",
        "best_model_fert = max(model_accuracies_fert, key=model_accuracies_fert.get)\n",
        "best_accuracy_fert = model_accuracies_fert[best_model_fert]\n",
        "print(f\"Best Model for Fertilizer Prediction: {best_model_fert} with Accuracy: {best_accuracy_fert:.4f}\")"
      ],
      "metadata": {
        "colab": {
          "base_uri": "https://localhost:8080/"
        },
        "id": "NvVZ25DQv9_i",
        "outputId": "7ba89686-041b-41c0-e187-2cad9ad7ed0b"
      },
      "execution_count": null,
      "outputs": [
        {
          "output_type": "stream",
          "name": "stdout",
          "text": [
            "\n",
            "--- Model Accuracies for Crop Prediction ---\n",
            "Decision Tree: 0.9938\n",
            "Random Forest: 0.9973\n",
            "Gradient Boosting: 0.9991\n",
            "Logistic Regression: 0.7662\n",
            "SVM: 0.6218\n",
            "KNN: 0.9522\n",
            "\n",
            "--- Model Accuracies for Fertilizer Prediction ---\n",
            "Decision Tree: 0.9442\n",
            "Random Forest: 0.9194\n",
            "Gradient Boosting: 0.7493\n",
            "Logistic Regression: 0.3339\n",
            "SVM: 0.3012\n",
            "KNN: 0.5261\n",
            "\n",
            "Best Model for Crop Prediction: Gradient Boosting with Accuracy: 0.9991\n",
            "Best Model for Fertilizer Prediction: Decision Tree with Accuracy: 0.9442\n"
          ]
        }
      ]
    },
    {
      "cell_type": "code",
      "source": [
        "import pickle\n",
        "filename = 'cropmodel.pkl'\n",
        "pickle.dump(model_tuned, open(filename, 'wb'))\n",
        "\n",
        "filename = 'fertilizermodel.pkl'\n",
        "pickle.dump(dtree_model, open(filename, 'wb'))\n",
        "\n"
      ],
      "metadata": {
        "id": "ohhblQzVxAcQ"
      },
      "execution_count": null,
      "outputs": []
    },
    {
      "cell_type": "code",
      "source": [
        "filename = \"encoder2.pkl\"\n",
        "pickle.dump(encoder2, open(filename, 'wb'))\n",
        "filename = \"encoder1.pkl\"\n",
        "pickle.dump(encoder1, open(filename, 'wb'))\n",
        "\n",
        "filename = \"map_crops.pkl\"\n",
        "pickle.dump(map_crops, open(filename, 'wb'))\n",
        "filename = \"map_fertilizers.pkl\"\n",
        "pickle.dump(map_fertilizers, open(filename, 'wb'))\n",
        "\n"
      ],
      "metadata": {
        "id": "HESOy2wL6YYH"
      },
      "execution_count": null,
      "outputs": []
    }
  ]
}